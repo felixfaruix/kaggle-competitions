{
 "cells": [
  {
   "cell_type": "markdown",
   "id": "08b61643",
   "metadata": {},
   "source": [
    "<a href=\"https://www.kaggle.com/code/felixfaruix/titanic-randomforest?scriptVersionId=250695895\" target=\"_blank\"><img align=\"left\" alt=\"Kaggle\" title=\"Open in Kaggle\" src=\"https://kaggle.com/static/images/open-in-kaggle.svg\"></a>"
   ]
  },
  {
   "cell_type": "markdown",
   "id": "5daa80ab",
   "metadata": {
    "papermill": {
     "duration": 0.005725,
     "end_time": "2025-07-15T18:47:04.443039",
     "exception": false,
     "start_time": "2025-07-15T18:47:04.437314",
     "status": "completed"
    },
    "tags": []
   },
   "source": [
    "## Titanic - Machine Learning from Disaster"
   ]
  },
  {
   "cell_type": "markdown",
   "id": "15023bbd",
   "metadata": {
    "papermill": {
     "duration": 0.004434,
     "end_time": "2025-07-15T18:47:04.4528",
     "exception": false,
     "start_time": "2025-07-15T18:47:04.448366",
     "status": "completed"
    },
    "tags": []
   },
   "source": [
    "This notebook is part of a _**Kaggle Competition**_ for the _Titanic_ dataset. The dataset is divided into train and test, where our goal is to predict what passengers survived the sank. We will do it using machine learning techniques and data science approach on the training data, building a model trying to predict the survivals on the test data. "
   ]
  },
  {
   "cell_type": "code",
   "execution_count": 1,
   "id": "7a710809",
   "metadata": {
    "execution": {
     "iopub.execute_input": "2025-07-15T18:47:04.46393Z",
     "iopub.status.busy": "2025-07-15T18:47:04.463594Z",
     "iopub.status.idle": "2025-07-15T18:47:14.33296Z",
     "shell.execute_reply": "2025-07-15T18:47:14.33212Z"
    },
    "papermill": {
     "duration": 9.876809,
     "end_time": "2025-07-15T18:47:14.334669",
     "exception": false,
     "start_time": "2025-07-15T18:47:04.45786",
     "status": "completed"
    },
    "tags": []
   },
   "outputs": [],
   "source": [
    "\"\"\"Importing necessary libraries for the Titanic dataset analysis.\n",
    "This script is part of a Kaggle competition notebook for the Titanic dataset.\"\"\"\n",
    "\n",
    "import pandas as pd \n",
    "import sklearn as sk\n",
    "import numpy as np\n",
    "import matplotlib.pyplot as plt\n",
    "import seaborn as sns\n",
    "import torch\n",
    "import torch.nn as nn\n",
    "import torch.optim as optim\n",
    "import os\n",
    "import sys"
   ]
  },
  {
   "cell_type": "code",
   "execution_count": 2,
   "id": "b7c33581",
   "metadata": {
    "execution": {
     "iopub.execute_input": "2025-07-15T18:47:14.345125Z",
     "iopub.status.busy": "2025-07-15T18:47:14.344669Z",
     "iopub.status.idle": "2025-07-15T18:47:14.378464Z",
     "shell.execute_reply": "2025-07-15T18:47:14.377456Z"
    },
    "papermill": {
     "duration": 0.041021,
     "end_time": "2025-07-15T18:47:14.380326",
     "exception": false,
     "start_time": "2025-07-15T18:47:14.339305",
     "status": "completed"
    },
    "tags": []
   },
   "outputs": [],
   "source": [
    "# Load the Titanic dataset\n",
    "# Ensure the correct path to the dataset files\n",
    "# Adjust the path as necessary based on your directory structure\n",
    "train_data = pd.read_csv('/kaggle/input/titanic/train.csv')\n",
    "test_data = pd.read_csv('/kaggle/input/titanic/test.csv')"
   ]
  },
  {
   "cell_type": "markdown",
   "id": "6d420c75",
   "metadata": {
    "papermill": {
     "duration": 0.004459,
     "end_time": "2025-07-15T18:47:14.390036",
     "exception": false,
     "start_time": "2025-07-15T18:47:14.385577",
     "status": "completed"
    },
    "tags": []
   },
   "source": [
    "_Head()_ tells us the first 5 rows of the dataset, which is useful to understand the structure and content of the data.\n",
    "As we can see, the dataset contains information about passengers such as their survival status, class, name and other features.     \n",
    "This is useful to understand the structure and content of the data, and to identify any **potential issues or missing values** in the dataset.\n",
    "We get a quick overview of the dataset, including the number of rows and columns, and the data types of each column.\n",
    "\n",
    "More information can be obtained using the _info()_ and _describe()_ methods. Info method is particularly useful to understand the data types and missing values in the dataset, while describe() method gives us a statistical summary of the numerical columns."
   ]
  },
  {
   "cell_type": "code",
   "execution_count": 3,
   "id": "69b139fe",
   "metadata": {
    "execution": {
     "iopub.execute_input": "2025-07-15T18:47:14.400839Z",
     "iopub.status.busy": "2025-07-15T18:47:14.400526Z",
     "iopub.status.idle": "2025-07-15T18:47:14.432179Z",
     "shell.execute_reply": "2025-07-15T18:47:14.431339Z"
    },
    "papermill": {
     "duration": 0.03881,
     "end_time": "2025-07-15T18:47:14.433774",
     "exception": false,
     "start_time": "2025-07-15T18:47:14.394964",
     "status": "completed"
    },
    "tags": []
   },
   "outputs": [
    {
     "data": {
      "text/html": [
       "<div>\n",
       "<style scoped>\n",
       "    .dataframe tbody tr th:only-of-type {\n",
       "        vertical-align: middle;\n",
       "    }\n",
       "\n",
       "    .dataframe tbody tr th {\n",
       "        vertical-align: top;\n",
       "    }\n",
       "\n",
       "    .dataframe thead th {\n",
       "        text-align: right;\n",
       "    }\n",
       "</style>\n",
       "<table border=\"1\" class=\"dataframe\">\n",
       "  <thead>\n",
       "    <tr style=\"text-align: right;\">\n",
       "      <th></th>\n",
       "      <th>PassengerId</th>\n",
       "      <th>Survived</th>\n",
       "      <th>Pclass</th>\n",
       "      <th>Name</th>\n",
       "      <th>Sex</th>\n",
       "      <th>Age</th>\n",
       "      <th>SibSp</th>\n",
       "      <th>Parch</th>\n",
       "      <th>Ticket</th>\n",
       "      <th>Fare</th>\n",
       "      <th>Cabin</th>\n",
       "      <th>Embarked</th>\n",
       "    </tr>\n",
       "  </thead>\n",
       "  <tbody>\n",
       "    <tr>\n",
       "      <th>0</th>\n",
       "      <td>1</td>\n",
       "      <td>0</td>\n",
       "      <td>3</td>\n",
       "      <td>Braund, Mr. Owen Harris</td>\n",
       "      <td>male</td>\n",
       "      <td>22.0</td>\n",
       "      <td>1</td>\n",
       "      <td>0</td>\n",
       "      <td>A/5 21171</td>\n",
       "      <td>7.2500</td>\n",
       "      <td>NaN</td>\n",
       "      <td>S</td>\n",
       "    </tr>\n",
       "    <tr>\n",
       "      <th>1</th>\n",
       "      <td>2</td>\n",
       "      <td>1</td>\n",
       "      <td>1</td>\n",
       "      <td>Cumings, Mrs. John Bradley (Florence Briggs Th...</td>\n",
       "      <td>female</td>\n",
       "      <td>38.0</td>\n",
       "      <td>1</td>\n",
       "      <td>0</td>\n",
       "      <td>PC 17599</td>\n",
       "      <td>71.2833</td>\n",
       "      <td>C85</td>\n",
       "      <td>C</td>\n",
       "    </tr>\n",
       "    <tr>\n",
       "      <th>2</th>\n",
       "      <td>3</td>\n",
       "      <td>1</td>\n",
       "      <td>3</td>\n",
       "      <td>Heikkinen, Miss. Laina</td>\n",
       "      <td>female</td>\n",
       "      <td>26.0</td>\n",
       "      <td>0</td>\n",
       "      <td>0</td>\n",
       "      <td>STON/O2. 3101282</td>\n",
       "      <td>7.9250</td>\n",
       "      <td>NaN</td>\n",
       "      <td>S</td>\n",
       "    </tr>\n",
       "    <tr>\n",
       "      <th>3</th>\n",
       "      <td>4</td>\n",
       "      <td>1</td>\n",
       "      <td>1</td>\n",
       "      <td>Futrelle, Mrs. Jacques Heath (Lily May Peel)</td>\n",
       "      <td>female</td>\n",
       "      <td>35.0</td>\n",
       "      <td>1</td>\n",
       "      <td>0</td>\n",
       "      <td>113803</td>\n",
       "      <td>53.1000</td>\n",
       "      <td>C123</td>\n",
       "      <td>S</td>\n",
       "    </tr>\n",
       "    <tr>\n",
       "      <th>4</th>\n",
       "      <td>5</td>\n",
       "      <td>0</td>\n",
       "      <td>3</td>\n",
       "      <td>Allen, Mr. William Henry</td>\n",
       "      <td>male</td>\n",
       "      <td>35.0</td>\n",
       "      <td>0</td>\n",
       "      <td>0</td>\n",
       "      <td>373450</td>\n",
       "      <td>8.0500</td>\n",
       "      <td>NaN</td>\n",
       "      <td>S</td>\n",
       "    </tr>\n",
       "  </tbody>\n",
       "</table>\n",
       "</div>"
      ],
      "text/plain": [
       "   PassengerId  Survived  Pclass  \\\n",
       "0            1         0       3   \n",
       "1            2         1       1   \n",
       "2            3         1       3   \n",
       "3            4         1       1   \n",
       "4            5         0       3   \n",
       "\n",
       "                                                Name     Sex   Age  SibSp  \\\n",
       "0                            Braund, Mr. Owen Harris    male  22.0      1   \n",
       "1  Cumings, Mrs. John Bradley (Florence Briggs Th...  female  38.0      1   \n",
       "2                             Heikkinen, Miss. Laina  female  26.0      0   \n",
       "3       Futrelle, Mrs. Jacques Heath (Lily May Peel)  female  35.0      1   \n",
       "4                           Allen, Mr. William Henry    male  35.0      0   \n",
       "\n",
       "   Parch            Ticket     Fare Cabin Embarked  \n",
       "0      0         A/5 21171   7.2500   NaN        S  \n",
       "1      0          PC 17599  71.2833   C85        C  \n",
       "2      0  STON/O2. 3101282   7.9250   NaN        S  \n",
       "3      0            113803  53.1000  C123        S  \n",
       "4      0            373450   8.0500   NaN        S  "
      ]
     },
     "execution_count": 3,
     "metadata": {},
     "output_type": "execute_result"
    }
   ],
   "source": [
    "# First 225 rows of the training data\n",
    "train_data.head()\n"
   ]
  },
  {
   "cell_type": "code",
   "execution_count": 4,
   "id": "23ade195",
   "metadata": {
    "execution": {
     "iopub.execute_input": "2025-07-15T18:47:14.445823Z",
     "iopub.status.busy": "2025-07-15T18:47:14.445039Z",
     "iopub.status.idle": "2025-07-15T18:47:14.513819Z",
     "shell.execute_reply": "2025-07-15T18:47:14.512409Z"
    },
    "papermill": {
     "duration": 0.076422,
     "end_time": "2025-07-15T18:47:14.515405",
     "exception": false,
     "start_time": "2025-07-15T18:47:14.438983",
     "status": "completed"
    },
    "tags": []
   },
   "outputs": [
    {
     "name": "stdout",
     "output_type": "stream",
     "text": [
      "<class 'pandas.core.frame.DataFrame'>\n",
      "RangeIndex: 891 entries, 0 to 890\n",
      "Data columns (total 12 columns):\n",
      " #   Column       Non-Null Count  Dtype  \n",
      "---  ------       --------------  -----  \n",
      " 0   PassengerId  891 non-null    int64  \n",
      " 1   Survived     891 non-null    int64  \n",
      " 2   Pclass       891 non-null    int64  \n",
      " 3   Name         891 non-null    object \n",
      " 4   Sex          891 non-null    object \n",
      " 5   Age          714 non-null    float64\n",
      " 6   SibSp        891 non-null    int64  \n",
      " 7   Parch        891 non-null    int64  \n",
      " 8   Ticket       891 non-null    object \n",
      " 9   Fare         891 non-null    float64\n",
      " 10  Cabin        204 non-null    object \n",
      " 11  Embarked     889 non-null    object \n",
      "dtypes: float64(2), int64(5), object(5)\n",
      "memory usage: 83.7+ KB\n",
      "<class 'pandas.core.frame.DataFrame'>\n",
      "RangeIndex: 891 entries, 0 to 890\n",
      "Data columns (total 12 columns):\n",
      " #   Column       Non-Null Count  Dtype  \n",
      "---  ------       --------------  -----  \n",
      " 0   PassengerId  891 non-null    int64  \n",
      " 1   Survived     891 non-null    int64  \n",
      " 2   Pclass       891 non-null    int64  \n",
      " 3   Name         891 non-null    object \n",
      " 4   Sex          891 non-null    object \n",
      " 5   Age          714 non-null    float64\n",
      " 6   SibSp        891 non-null    int64  \n",
      " 7   Parch        891 non-null    int64  \n",
      " 8   Ticket       891 non-null    object \n",
      " 9   Fare         891 non-null    float64\n",
      " 10  Cabin        204 non-null    object \n",
      " 11  Embarked     889 non-null    object \n",
      "dtypes: float64(2), int64(5), object(5)\n",
      "memory usage: 83.7+ KB\n"
     ]
    },
    {
     "data": {
      "text/html": [
       "<div>\n",
       "<style scoped>\n",
       "    .dataframe tbody tr th:only-of-type {\n",
       "        vertical-align: middle;\n",
       "    }\n",
       "\n",
       "    .dataframe tbody tr th {\n",
       "        vertical-align: top;\n",
       "    }\n",
       "\n",
       "    .dataframe thead th {\n",
       "        text-align: right;\n",
       "    }\n",
       "</style>\n",
       "<table border=\"1\" class=\"dataframe\">\n",
       "  <thead>\n",
       "    <tr style=\"text-align: right;\">\n",
       "      <th></th>\n",
       "      <th>PassengerId</th>\n",
       "      <th>Survived</th>\n",
       "      <th>Pclass</th>\n",
       "      <th>Age</th>\n",
       "      <th>SibSp</th>\n",
       "      <th>Parch</th>\n",
       "      <th>Fare</th>\n",
       "    </tr>\n",
       "  </thead>\n",
       "  <tbody>\n",
       "    <tr>\n",
       "      <th>count</th>\n",
       "      <td>891.000000</td>\n",
       "      <td>891.000000</td>\n",
       "      <td>891.000000</td>\n",
       "      <td>714.000000</td>\n",
       "      <td>891.000000</td>\n",
       "      <td>891.000000</td>\n",
       "      <td>891.000000</td>\n",
       "    </tr>\n",
       "    <tr>\n",
       "      <th>mean</th>\n",
       "      <td>446.000000</td>\n",
       "      <td>0.383838</td>\n",
       "      <td>2.308642</td>\n",
       "      <td>29.699118</td>\n",
       "      <td>0.523008</td>\n",
       "      <td>0.381594</td>\n",
       "      <td>32.204208</td>\n",
       "    </tr>\n",
       "    <tr>\n",
       "      <th>std</th>\n",
       "      <td>257.353842</td>\n",
       "      <td>0.486592</td>\n",
       "      <td>0.836071</td>\n",
       "      <td>14.526497</td>\n",
       "      <td>1.102743</td>\n",
       "      <td>0.806057</td>\n",
       "      <td>49.693429</td>\n",
       "    </tr>\n",
       "    <tr>\n",
       "      <th>min</th>\n",
       "      <td>1.000000</td>\n",
       "      <td>0.000000</td>\n",
       "      <td>1.000000</td>\n",
       "      <td>0.420000</td>\n",
       "      <td>0.000000</td>\n",
       "      <td>0.000000</td>\n",
       "      <td>0.000000</td>\n",
       "    </tr>\n",
       "    <tr>\n",
       "      <th>25%</th>\n",
       "      <td>223.500000</td>\n",
       "      <td>0.000000</td>\n",
       "      <td>2.000000</td>\n",
       "      <td>20.125000</td>\n",
       "      <td>0.000000</td>\n",
       "      <td>0.000000</td>\n",
       "      <td>7.910400</td>\n",
       "    </tr>\n",
       "    <tr>\n",
       "      <th>50%</th>\n",
       "      <td>446.000000</td>\n",
       "      <td>0.000000</td>\n",
       "      <td>3.000000</td>\n",
       "      <td>28.000000</td>\n",
       "      <td>0.000000</td>\n",
       "      <td>0.000000</td>\n",
       "      <td>14.454200</td>\n",
       "    </tr>\n",
       "    <tr>\n",
       "      <th>75%</th>\n",
       "      <td>668.500000</td>\n",
       "      <td>1.000000</td>\n",
       "      <td>3.000000</td>\n",
       "      <td>38.000000</td>\n",
       "      <td>1.000000</td>\n",
       "      <td>0.000000</td>\n",
       "      <td>31.000000</td>\n",
       "    </tr>\n",
       "    <tr>\n",
       "      <th>max</th>\n",
       "      <td>891.000000</td>\n",
       "      <td>1.000000</td>\n",
       "      <td>3.000000</td>\n",
       "      <td>80.000000</td>\n",
       "      <td>8.000000</td>\n",
       "      <td>6.000000</td>\n",
       "      <td>512.329200</td>\n",
       "    </tr>\n",
       "  </tbody>\n",
       "</table>\n",
       "</div>"
      ],
      "text/plain": [
       "       PassengerId    Survived      Pclass         Age       SibSp  \\\n",
       "count   891.000000  891.000000  891.000000  714.000000  891.000000   \n",
       "mean    446.000000    0.383838    2.308642   29.699118    0.523008   \n",
       "std     257.353842    0.486592    0.836071   14.526497    1.102743   \n",
       "min       1.000000    0.000000    1.000000    0.420000    0.000000   \n",
       "25%     223.500000    0.000000    2.000000   20.125000    0.000000   \n",
       "50%     446.000000    0.000000    3.000000   28.000000    0.000000   \n",
       "75%     668.500000    1.000000    3.000000   38.000000    1.000000   \n",
       "max     891.000000    1.000000    3.000000   80.000000    8.000000   \n",
       "\n",
       "            Parch        Fare  \n",
       "count  891.000000  891.000000  \n",
       "mean     0.381594   32.204208  \n",
       "std      0.806057   49.693429  \n",
       "min      0.000000    0.000000  \n",
       "25%      0.000000    7.910400  \n",
       "50%      0.000000   14.454200  \n",
       "75%      0.000000   31.000000  \n",
       "max      6.000000  512.329200  "
      ]
     },
     "execution_count": 4,
     "metadata": {},
     "output_type": "execute_result"
    }
   ],
   "source": [
    "# Get a quick overview of the dataset\n",
    "train_data.info()\n",
    "train_data.describe()\n",
    "train_data.info()\n",
    "train_data.describe()\n",
    "\n",
    "\n",
    "\n",
    "# Parch shows the number of parents/children aboard, this one shows that most of the passengers were alone. "
   ]
  },
  {
   "cell_type": "markdown",
   "id": "8effc3e9",
   "metadata": {
    "papermill": {
     "duration": 0.005086,
     "end_time": "2025-07-15T18:47:14.527603",
     "exception": false,
     "start_time": "2025-07-15T18:47:14.522517",
     "status": "completed"
    },
    "tags": []
   },
   "source": [
    "The dataset is missing some values, especially in the '**Age**' and '**Embarked**' columns.\n",
    "We can also see that the 'Survived' column is the target variable, which we will use to train our model.\n",
    "\n",
    " _Describe()_ shows that most of the people did not survive, which is expected as the Titanic sank.\n",
    "The '**Pclass**' column indicates the class of the ticket, which is also an important feature to consider. This one shows that most of the passengers were in the 3rd class, which is expected as it was the cheapest ticket.\n",
    "'**Parch**' column shows the number of parents/children aboard, pointing out that most of the passengers were alone. \n",
    "\n",
    "As our next step, we will now plot the correlation heatmap indicating the degree of linkage between each feature.\n"
   ]
  },
  {
   "cell_type": "code",
   "execution_count": 5,
   "id": "b02c045b",
   "metadata": {
    "execution": {
     "iopub.execute_input": "2025-07-15T18:47:14.539835Z",
     "iopub.status.busy": "2025-07-15T18:47:14.539504Z",
     "iopub.status.idle": "2025-07-15T18:47:15.043677Z",
     "shell.execute_reply": "2025-07-15T18:47:15.042649Z"
    },
    "papermill": {
     "duration": 0.512647,
     "end_time": "2025-07-15T18:47:15.045407",
     "exception": false,
     "start_time": "2025-07-15T18:47:14.53276",
     "status": "completed"
    },
    "tags": []
   },
   "outputs": [
    {
     "data": {
      "image/png": "[encoded data removed]",
      "text/plain": [
       "<Figure size 640x480 with 2 Axes>"
      ]
     },
     "metadata": {},
     "output_type": "display_data"
    }
   ],
   "source": [
    "# Plotting only int or float columns correlations\n",
    "numeric_df = train_data.select_dtypes(include=[\"int64\", \"float64\"])\n",
    "sns.heatmap(numeric_df.corr(), cmap='YlGnBu')\n",
    "plt.title('Correlation Heatmap of Titanic Dataset')\n",
    "plt.show()"
   ]
  },
  {
   "cell_type": "markdown",
   "id": "f9e2b4a4",
   "metadata": {
    "papermill": {
     "duration": 0.006406,
     "end_time": "2025-07-15T18:47:15.058236",
     "exception": false,
     "start_time": "2025-07-15T18:47:15.05183",
     "status": "completed"
    },
    "tags": []
   },
   "source": [
    "#### Splitting our train set via stratified shuffle split from _sklearn_"
   ]
  },
  {
   "cell_type": "markdown",
   "id": "28bcbb67",
   "metadata": {
    "papermill": {
     "duration": 0.006332,
     "end_time": "2025-07-15T18:47:15.070791",
     "exception": false,
     "start_time": "2025-07-15T18:47:15.064459",
     "status": "completed"
    },
    "tags": []
   },
   "source": [
    "Now we want to split our _train_data_ into train and test sets, but with preserved class proportions. \n",
    "\n",
    "- We shuffle our dataset randomly via **StratifiedShuffleSplit** from _sklearn_\n",
    "- Then we split it into train and test sets (80%/20%)\n",
    "- WHile preserving the distribution of different target variables in both sets (Survived, Pclass, Sex)\n",
    "\n",
    "This is important when the class is imbalanced like in this case, where the survival rate is low. \n"
   ]
  },
  {
   "cell_type": "code",
   "execution_count": 6,
   "id": "c5ccff74",
   "metadata": {
    "execution": {
     "iopub.execute_input": "2025-07-15T18:47:15.08376Z",
     "iopub.status.busy": "2025-07-15T18:47:15.083439Z",
     "iopub.status.idle": "2025-07-15T18:47:15.303427Z",
     "shell.execute_reply": "2025-07-15T18:47:15.30241Z"
    },
    "papermill": {
     "duration": 0.228481,
     "end_time": "2025-07-15T18:47:15.305125",
     "exception": false,
     "start_time": "2025-07-15T18:47:15.076644",
     "status": "completed"
    },
    "tags": []
   },
   "outputs": [],
   "source": [
    "from sklearn.model_selection import StratifiedShuffleSplit\n",
    "\n",
    "split = StratifiedShuffleSplit(n_splits = 1, test_size=0.2, random_state=42)\n",
    "for train_indeces, test_indeces in split.split(train_data, train_data[[\"Survived\", \"Sex\"]]):\n",
    "    strat_train_set = train_data.loc[train_indeces].reset_index(drop=True)\n",
    "    strat_test_set = train_data.loc[test_indeces].reset_index(drop=True)"
   ]
  },
  {
   "cell_type": "markdown",
   "id": "d0a219fd",
   "metadata": {
    "papermill": {
     "duration": 0.005564,
     "end_time": "2025-07-15T18:47:15.317091",
     "exception": false,
     "start_time": "2025-07-15T18:47:15.311527",
     "status": "completed"
    },
    "tags": []
   },
   "source": [
    "We plot each distirbution across the two sets, in order to verify that they are actually equal across each different variable. "
   ]
  },
  {
   "cell_type": "code",
   "execution_count": 7,
   "id": "ecfc084b",
   "metadata": {
    "execution": {
     "iopub.execute_input": "2025-07-15T18:47:15.329876Z",
     "iopub.status.busy": "2025-07-15T18:47:15.32957Z",
     "iopub.status.idle": "2025-07-15T18:47:16.246788Z",
     "shell.execute_reply": "2025-07-15T18:47:16.245783Z"
    },
    "papermill": {
     "duration": 0.926232,
     "end_time": "2025-07-15T18:47:16.24911",
     "exception": false,
     "start_time": "2025-07-15T18:47:15.322878",
     "status": "completed"
    },
    "tags": []
   },
   "outputs": [
    {
     "data": {
      "image/png": "[encoded data removed]",
      "text/plain": [
       "<Figure size 1000x1000 with 6 Axes>"
      ]
     },
     "metadata": {},
     "output_type": "display_data"
    }
   ],
   "source": [
    "import matplotlib.pyplot as plt\n",
    "\n",
    "fig, axes = plt.subplots(3, 2, figsize=(10, 10))\n",
    "fig.suptitle(\"Stratified Train/Test Distributions\", fontsize=16)\n",
    "\n",
    "# Row 1: Survived\n",
    "axes[0, 0].hist(strat_train_set[\"Survived\"], bins=2, color=\"skyblue\")\n",
    "axes[0, 0].set_title(\"Train: Survived\")\n",
    "axes[0, 1].hist(strat_test_set[\"Survived\"], bins=2, color=\"brown\")\n",
    "axes[0, 1].set_title(\"Test: Survived\")\n",
    "\n",
    "# Row 2: Sex\n",
    "axes[1, 0].hist(strat_train_set[\"Sex\"], bins=2, color=\"skyblue\")\n",
    "axes[1, 0].set_title(\"Train: Sex\")\n",
    "axes[1, 1].hist(strat_test_set[\"Sex\"], bins=2, color=\"brown\")\n",
    "axes[1, 1].set_title(\"Test: Sex\")\n",
    "\n",
    "# Row 3: Pclass\n",
    "axes[2, 0].hist(strat_train_set[\"Pclass\"], bins=3, color=\"skyblue\")\n",
    "axes[2, 0].set_title(\"Train: Pclass\")\n",
    "axes[2, 1].hist(strat_test_set[\"Pclass\"], bins=3, color=\"brown\")\n",
    "axes[2, 1].set_title(\"Test: Pclass\")\n",
    "\n",
    "# Clean up\n",
    "for ax in axes.flat:\n",
    "    ax.set_xticks([0, 1, 2, 3])\n",
    "    ax.set_xlabel(\"\")\n",
    "    ax.set_ylabel(\"Count\")\n",
    "\n",
    "plt.tight_layout(pad = 0.8, h_pad= 0.2, w_pad= 0.2)\n",
    "plt.show()"
   ]
  },
  {
   "cell_type": "code",
   "execution_count": 8,
   "id": "8d4e1a58",
   "metadata": {
    "execution": {
     "iopub.execute_input": "2025-07-15T18:47:16.264078Z",
     "iopub.status.busy": "2025-07-15T18:47:16.263763Z",
     "iopub.status.idle": "2025-07-15T18:47:16.274902Z",
     "shell.execute_reply": "2025-07-15T18:47:16.273987Z"
    },
    "papermill": {
     "duration": 0.020402,
     "end_time": "2025-07-15T18:47:16.276389",
     "exception": false,
     "start_time": "2025-07-15T18:47:16.255987",
     "status": "completed"
    },
    "tags": []
   },
   "outputs": [
    {
     "name": "stdout",
     "output_type": "stream",
     "text": [
      "<class 'pandas.core.frame.DataFrame'>\n",
      "RangeIndex: 712 entries, 0 to 711\n",
      "Data columns (total 12 columns):\n",
      " #   Column       Non-Null Count  Dtype  \n",
      "---  ------       --------------  -----  \n",
      " 0   PassengerId  712 non-null    int64  \n",
      " 1   Survived     712 non-null    int64  \n",
      " 2   Pclass       712 non-null    int64  \n",
      " 3   Name         712 non-null    object \n",
      " 4   Sex          712 non-null    object \n",
      " 5   Age          567 non-null    float64\n",
      " 6   SibSp        712 non-null    int64  \n",
      " 7   Parch        712 non-null    int64  \n",
      " 8   Ticket       712 non-null    object \n",
      " 9   Fare         712 non-null    float64\n",
      " 10  Cabin        166 non-null    object \n",
      " 11  Embarked     711 non-null    object \n",
      "dtypes: float64(2), int64(5), object(5)\n",
      "memory usage: 66.9+ KB\n"
     ]
    }
   ],
   "source": [
    "strat_train_set.info()"
   ]
  },
  {
   "cell_type": "code",
   "execution_count": 9,
   "id": "e13f2ea5",
   "metadata": {
    "execution": {
     "iopub.execute_input": "2025-07-15T18:47:16.291719Z",
     "iopub.status.busy": "2025-07-15T18:47:16.290858Z",
     "iopub.status.idle": "2025-07-15T18:47:16.301894Z",
     "shell.execute_reply": "2025-07-15T18:47:16.300597Z"
    },
    "papermill": {
     "duration": 0.020267,
     "end_time": "2025-07-15T18:47:16.303561",
     "exception": false,
     "start_time": "2025-07-15T18:47:16.283294",
     "status": "completed"
    },
    "tags": []
   },
   "outputs": [
    {
     "name": "stdout",
     "output_type": "stream",
     "text": [
      "<class 'pandas.core.frame.DataFrame'>\n",
      "RangeIndex: 179 entries, 0 to 178\n",
      "Data columns (total 12 columns):\n",
      " #   Column       Non-Null Count  Dtype  \n",
      "---  ------       --------------  -----  \n",
      " 0   PassengerId  179 non-null    int64  \n",
      " 1   Survived     179 non-null    int64  \n",
      " 2   Pclass       179 non-null    int64  \n",
      " 3   Name         179 non-null    object \n",
      " 4   Sex          179 non-null    object \n",
      " 5   Age          147 non-null    float64\n",
      " 6   SibSp        179 non-null    int64  \n",
      " 7   Parch        179 non-null    int64  \n",
      " 8   Ticket       179 non-null    object \n",
      " 9   Fare         179 non-null    float64\n",
      " 10  Cabin        38 non-null     object \n",
      " 11  Embarked     178 non-null    object \n",
      "dtypes: float64(2), int64(5), object(5)\n",
      "memory usage: 16.9+ KB\n"
     ]
    }
   ],
   "source": [
    "strat_test_set.info()   "
   ]
  },
  {
   "cell_type": "code",
   "execution_count": 10,
   "id": "bed4f315",
   "metadata": {
    "execution": {
     "iopub.execute_input": "2025-07-15T18:47:16.319388Z",
     "iopub.status.busy": "2025-07-15T18:47:16.318554Z",
     "iopub.status.idle": "2025-07-15T18:47:16.330031Z",
     "shell.execute_reply": "2025-07-15T18:47:16.32906Z"
    },
    "papermill": {
     "duration": 0.022216,
     "end_time": "2025-07-15T18:47:16.332804",
     "exception": false,
     "start_time": "2025-07-15T18:47:16.310588",
     "status": "completed"
    },
    "tags": []
   },
   "outputs": [
    {
     "name": "stdout",
     "output_type": "stream",
     "text": [
      "<class 'pandas.core.frame.DataFrame'>\n",
      "RangeIndex: 418 entries, 0 to 417\n",
      "Data columns (total 11 columns):\n",
      " #   Column       Non-Null Count  Dtype  \n",
      "---  ------       --------------  -----  \n",
      " 0   PassengerId  418 non-null    int64  \n",
      " 1   Pclass       418 non-null    int64  \n",
      " 2   Name         418 non-null    object \n",
      " 3   Sex          418 non-null    object \n",
      " 4   Age          332 non-null    float64\n",
      " 5   SibSp        418 non-null    int64  \n",
      " 6   Parch        418 non-null    int64  \n",
      " 7   Ticket       418 non-null    object \n",
      " 8   Fare         417 non-null    float64\n",
      " 9   Cabin        91 non-null     object \n",
      " 10  Embarked     418 non-null    object \n",
      "dtypes: float64(2), int64(4), object(5)\n",
      "memory usage: 36.1+ KB\n"
     ]
    }
   ],
   "source": [
    "test_data.info()"
   ]
  },
  {
   "cell_type": "markdown",
   "id": "ef053d18",
   "metadata": {
    "papermill": {
     "duration": 0.007124,
     "end_time": "2025-07-15T18:47:16.34745",
     "exception": false,
     "start_time": "2025-07-15T18:47:16.340326",
     "status": "completed"
    },
    "tags": []
   },
   "source": [
    "### Feature Engineering "
   ]
  },
  {
   "cell_type": "markdown",
   "id": "48097328",
   "metadata": {
    "papermill": {
     "duration": 0.007409,
     "end_time": "2025-07-15T18:47:16.362288",
     "exception": false,
     "start_time": "2025-07-15T18:47:16.354879",
     "status": "completed"
    },
    "tags": []
   },
   "source": [
    "For first, we need to fill the gaps in the Age column. \n",
    "Then, we will have to drop the name column, which is a string, not brining any value to our feature space, except the title from name, which could be useful for in relation to their class. Then, we will also transform our '**Sex**' column into a binary variable (0: Male - 1: Female). \n",
    "\n",
    "We will also drop '**Cabin**' column and keep a bianry flag if there is any cabin code at all. Finally, we will transform into integers the values from the '**Embarked**' as one hot encoding, which is a common technique to convert categorical variables into numerical ones."
   ]
  },
  {
   "cell_type": "code",
   "execution_count": 11,
   "id": "c2960211",
   "metadata": {
    "execution": {
     "iopub.execute_input": "2025-07-15T18:47:16.378711Z",
     "iopub.status.busy": "2025-07-15T18:47:16.378216Z",
     "iopub.status.idle": "2025-07-15T18:47:16.703652Z",
     "shell.execute_reply": "2025-07-15T18:47:16.70266Z"
    },
    "papermill": {
     "duration": 0.336317,
     "end_time": "2025-07-15T18:47:16.705859",
     "exception": false,
     "start_time": "2025-07-15T18:47:16.369542",
     "status": "completed"
    },
    "tags": []
   },
   "outputs": [],
   "source": [
    "import pandas as pd\n",
    "from sklearn.impute import SimpleImputer\n",
    "from sklearn.preprocessing import OneHotEncoder\n",
    "from sklearn.base import BaseEstimator, TransformerMixin\n",
    "\n",
    "\n",
    "class CabinFLagger(BaseEstimator, TransformerMixin):\n",
    "    \"\"\"Transformer to create a binary flag for the presence of a cabin.\"\"\"\n",
    "    def __init__(self, columns=(\"Cabin\",)):\n",
    "        self.columns = list(columns)\n",
    "\n",
    "    def fit(self, X, y=None):\n",
    "        return self\n",
    "\n",
    "    def transform(self, X):\n",
    "        X = X.copy()\n",
    "        # Create a binary flag for the presence of a cabin\n",
    "        X[\"hasCabin\"]= X[\"Cabin\"].notnull().astype(int)\n",
    "        return X.drop(columns=self.columns, errors=\"ignore\").copy() #may or may not be a view so we add .copy() to avoid SettingWithCopyWarning\n",
    "\n",
    "class FeatureDropper(BaseEstimator, TransformerMixin):\n",
    "    \"\"\"Transformer to drop specified features from the DataFrame.\"\"\"\n",
    "    def __init__(self, columns: tuple):\n",
    "        if columns is None:\n",
    "            columns = [\"Ticket\"]\n",
    "        self.columns = list(columns)\n",
    "    # Initialize with the columns to drop, defaulting to \"Ticket\"\n",
    "    def fit(self, X, y=None): \n",
    "        return self\n",
    "    # Drop specified features from the DataFrame\n",
    "    def transform(self, X):\n",
    "        X = X.copy()\n",
    "        # Drop specified features\n",
    "        return X.drop(columns = self.columns, errors=\"ignore\").copy()\n",
    "    \n",
    "class TitleExtractor(BaseEstimator, TransformerMixin):\n",
    "    \"\"\"Transformer to extract titles from names in the DataFrame.\"\"\"\n",
    "\n",
    "    def fit(self, X, y=None):\n",
    "        return self\n",
    "\n",
    "    def transform(self, X):\n",
    "        X = X.copy()\n",
    "        # Extract titles from names\n",
    "        X[\"Title\"] = X[\"Name\"].str.extract(r' ([A-Za-z]+)\\.', expand=False)\n",
    "        return X.drop(columns=[\"Name\"], errors=\"ignore\").copy()\n",
    "    \n",
    "class AgeImputer(BaseEstimator, TransformerMixin):\n",
    "\n",
    "    def __init__(self):\n",
    "        self.groups = [\"Pclass\", \"Sex\", \"Title\"]\n",
    "        self.age_median = None # Will hold the median age for each group\n",
    "\n",
    "    def fit(self, X, y=None):\n",
    "        # Group by specified features and calculate the median age for each group\n",
    "        # groupby() loops over the dataset and calculates the median age for each group with median()\n",
    "        # and reset_index() to convert the result back to a DataFrame (because we get a Series otherwise)\n",
    "        # rename() to change the column name to \"GroupMedian\"\n",
    "        self.age_medians = (X.groupby(self.groups)[\"Age\"].median().reset_index()\n",
    "                              .rename(columns={\"Age\": \"GroupMedian\"}))\n",
    "        return self\n",
    "    \n",
    "    def transform(self, X):\n",
    "        X = X.copy()\n",
    "        # Merge to assign group median to each row where the groups are defined\n",
    "        X = pd.merge(X, self.age_medians, on=self.groups, how=\"left\")\n",
    "        # Fill missing Age with group median\n",
    "        X[\"Age\"] = X[\"Age\"].fillna(X[\"GroupMedian\"])\n",
    "        return X.drop(columns=[\"GroupMedian\"], errors=\"ignore\").copy()\n",
    "\n",
    "class TitleOneHotEncoder(BaseEstimator, TransformerMixin):\n",
    "\n",
    "    def __init__(self):\n",
    "        self.encoder = OneHotEncoder(sparse_output=False, handle_unknown=\"ignore\")\n",
    "\n",
    "    def fit(self, X, y=None):\n",
    "        self.encoder.fit(X[[\"Title\"]])\n",
    "        X['Title'] = X['Title'].replace(['Mlle', 'Ms', 'Lady', 'Countess', 'the_Countess' 'Mme', 'Dona'], 'Miss')\n",
    "        X['Title'] = X['Title'].replace(['Rev', 'Don', 'Capt', 'Major', 'Sir', 'Col', 'Jonkheer'], 'Rare')\n",
    "        return self\n",
    "\n",
    "    def transform(self, X):\n",
    "        X = X.copy()\n",
    "        title_encoded = np.asarray(self.encoder.transform(X[[\"Title\"]]))\n",
    "        # Now we group all the rare titles into \"Rare\", and under miss as well  and encode the rest\n",
    "        # Create a DataFrame with the encoded titles\n",
    "        title_df = pd.DataFrame(data = title_encoded, index = X.index, \n",
    "                                columns=self.encoder.get_feature_names_out([\"Title\"]))\n",
    "        return pd.concat([X.drop(columns=[\"Title\"], errors=\"ignore\").copy(), title_df], axis=1)\n",
    "    \n",
    "class SexLabelEncoder(BaseEstimator, TransformerMixin):\n",
    "    \"\"\"Transformer to encode the Sex column into binary values.\"\"\"\n",
    "\n",
    "    def fit (self, X, y=None):\n",
    "        # No fitting needed for label encoding\n",
    "        return self \n",
    "\n",
    "    def transform(self, X):\n",
    "        X = X.copy()\n",
    "        # Encode    \n",
    "        X[\"Sex\"] = X[\"Sex\"].map({\"male\": 1, \"female\": 0}).astype(int)\n",
    "        # Ensure the column is of type int\n",
    "        return X\n",
    "    \n",
    "class EmbarkedLabelEncoder(BaseEstimator, TransformerMixin):\n",
    "    \"\"\"Transformer to hot-encode Embarked column.\"\"\"\n",
    "\n",
    "    def __init__(self):\n",
    "        self.encoder = OneHotEncoder(sparse_output=False, handle_unknown=\"ignore\")\n",
    "\n",
    "    def fit(self, X, y=None):\n",
    "        self.encoder.fit(X[[\"Embarked\"]])\n",
    "        return self\n",
    "    def transform(self, X):\n",
    "        X = X.copy()\n",
    "        embarked_encoded = np.asarray(self.encoder.transform(X[[\"Embarked\"]]))\n",
    "        # Create a DataFrame with the encoded embarked values\n",
    "        embarked_df = pd.DataFrame(data=embarked_encoded, index=X.index,\n",
    "                                   columns=self.encoder.get_feature_names_out([\"Embarked\"]))\n",
    "        return pd.concat([X.drop(columns=[\"Embarked\"], errors=\"ignore\").copy(), embarked_df], axis=1)\n",
    "\n",
    "class isAloneFlagger(BaseEstimator, TransformerMixin):\n",
    "    \"\"\"Transformer to create a binary flag indicating if a passenger is alone.\"\"\"\n",
    "    \n",
    "    def fit(self, X, y=None):\n",
    "        return self\n",
    "\n",
    "    def transform(self, X):\n",
    "        X = X.copy()\n",
    "        # Create a binary flag for being alone\n",
    "        X[\"isAlone\"] = ((X[\"SibSp\"] == 0) & (X[\"Parch\"] == 0)).astype(int)\n",
    "        return X\n",
    "\n",
    "class NormalizeFare(BaseEstimator, TransformerMixin):\n",
    "    \"\"\"Transformer to normalize the Fare column.\"\"\"\n",
    "    \n",
    "    def fit(self, X, y=None):\n",
    "        return self\n",
    "\n",
    "    def transform(self, X):\n",
    "        X = X.copy()\n",
    "        # Normalize Fare by dividing by the maximum Fare value\n",
    "        X[\"Fare\"] = X[\"Fare\"] / X[\"Fare\"].max()\n",
    "        return X\n",
    "\n",
    "class isMinorFlagger(BaseEstimator, TransformerMixin):\n",
    "    \"\"\"Transformer to create a binary flag indicating if a passenger is a minor.\"\"\"\n",
    "    \n",
    "    def fit(self, X, y=None):\n",
    "        return self\n",
    "\n",
    "    def transform(self, X):\n",
    "        X = X.copy()\n",
    "        # Create a binary flag for being a minor\n",
    "        X[\"isMinor\"] = (X[\"Age\"] < 16).astype(int)\n",
    "        return X\n",
    "\n",
    "class familySizeFlagger(BaseEstimator, TransformerMixin):\n",
    "    \"\"\"Transformer to create a family size flag.\"\"\"\n",
    "    \n",
    "    def fit(self, X, y=None):\n",
    "        return self\n",
    "\n",
    "    def transform(self, X):\n",
    "        X = X.copy()\n",
    "        # Create a family size feature\n",
    "        X[\"FamilySize\"] = X[\"SibSp\"] + X[\"Parch\"] + 1  # +1 for the passenger themselves\n",
    "        return X"
   ]
  },
  {
   "cell_type": "code",
   "execution_count": 12,
   "id": "7b1d7cbf",
   "metadata": {
    "execution": {
     "iopub.execute_input": "2025-07-15T18:47:16.730258Z",
     "iopub.status.busy": "2025-07-15T18:47:16.729922Z",
     "iopub.status.idle": "2025-07-15T18:47:16.820914Z",
     "shell.execute_reply": "2025-07-15T18:47:16.819922Z"
    },
    "papermill": {
     "duration": 0.103885,
     "end_time": "2025-07-15T18:47:16.822453",
     "exception": false,
     "start_time": "2025-07-15T18:47:16.718568",
     "status": "completed"
    },
    "tags": []
   },
   "outputs": [
    {
     "name": "stdout",
     "output_type": "stream",
     "text": [
      "TRAIN cols : ['PassengerId', 'Survived', 'Pclass', 'Name', 'Sex', 'Age', 'SibSp', 'Parch', 'Ticket', 'Fare', 'Cabin', 'Embarked']\n",
      "VAL cols : ['PassengerId', 'Survived', 'Pclass', 'Name', 'Sex', 'Age', 'SibSp', 'Parch', 'Ticket', 'Fare', 'Cabin', 'Embarked']\n",
      "   PassengerId  Survived  Pclass  Sex   Age  SibSp  Parch      Fare  hasCabin  \\\n",
      "0          219         1       1    0  32.0      0      0  0.148911         1   \n",
      "1          128         1       3    1  24.0      0      0  0.013940         0   \n",
      "2          489         0       3    1  30.0      0      0  0.015713         0   \n",
      "3          806         0       3    1  31.0      0      0  0.015176         0   \n",
      "4          878         0       3    1  19.0      0      0  0.015412         0   \n",
      "\n",
      "   Embarked_C  ...  Title_Lady  Title_Major  Title_Master  Title_Miss  \\\n",
      "0         1.0  ...         0.0          0.0           0.0         1.0   \n",
      "1         0.0  ...         0.0          0.0           0.0         0.0   \n",
      "2         0.0  ...         0.0          0.0           0.0         0.0   \n",
      "3         0.0  ...         0.0          0.0           0.0         0.0   \n",
      "4         0.0  ...         0.0          0.0           0.0         0.0   \n",
      "\n",
      "   Title_Mlle  Title_Mme  Title_Mr  Title_Mrs  Title_Rev  Title_Sir  \n",
      "0         0.0        0.0       0.0        0.0        0.0        0.0  \n",
      "1         0.0        0.0       1.0        0.0        0.0        0.0  \n",
      "2         0.0        0.0       1.0        0.0        0.0        0.0  \n",
      "3         0.0        0.0       1.0        0.0        0.0        0.0  \n",
      "4         0.0        0.0       1.0        0.0        0.0        0.0  \n",
      "\n",
      "[5 rows x 30 columns]\n"
     ]
    },
    {
     "name": "stderr",
     "output_type": "stream",
     "text": [
      "/usr/local/lib/python3.11/dist-packages/pandas/core/computation/expressions.py:73: RuntimeWarning: invalid value encountered in less\n",
      "  return op(a, b)\n"
     ]
    }
   ],
   "source": [
    "from sklearn.pipeline import Pipeline\n",
    "\n",
    "preprocess_pipe = Pipeline([\n",
    "    (\"cabin\", CabinFLagger()),\n",
    "    (\"feature_drop\",  FeatureDropper((\"Ticket\",))),\n",
    "    (\"Tirle_extractor\",  TitleExtractor()),\n",
    "    (\"age_imputer\", AgeImputer()),\n",
    "    (\"Sex_flagger\", SexLabelEncoder()),\n",
    "    (\"Embarked_encoder\", EmbarkedLabelEncoder()),\n",
    "    (\"isAlone_flagger\", isAloneFlagger()),\n",
    "    (\"NormalizeFare\", NormalizeFare()),\n",
    "    (\"isMinor_flagger\", isMinorFlagger()),\n",
    "    (\"FamilySize_flagger\", familySizeFlagger()),\n",
    "    (\"Title_one_hot_encoder\", TitleOneHotEncoder()),\n",
    "])\n",
    "\n",
    "print(\"TRAIN cols :\", list(strat_train_set.columns))\n",
    "print(\"VAL cols :\", list(strat_test_set.columns))\n",
    "# fit + transform on training split\n",
    "preprocessed_array = preprocess_pipe.fit_transform(strat_train_set)\n",
    "strat_train_set = pd.DataFrame(preprocessed_array)\n",
    "print(strat_train_set.head())\n",
    "\n",
    "# transform ONLY on validation / test split\n",
    "strat_test_set  = preprocess_pipe.transform(strat_test_set)\n",
    "test_data_processed = preprocess_pipe.transform(test_data)\n",
    "# Display the first few rows of the transformed training data\n"
   ]
  },
  {
   "cell_type": "code",
   "execution_count": 13,
   "id": "fe5aeb3b",
   "metadata": {
    "execution": {
     "iopub.execute_input": "2025-07-15T18:47:16.838555Z",
     "iopub.status.busy": "2025-07-15T18:47:16.838227Z",
     "iopub.status.idle": "2025-07-15T18:47:16.86052Z",
     "shell.execute_reply": "2025-07-15T18:47:16.859595Z"
    },
    "papermill": {
     "duration": 0.032198,
     "end_time": "2025-07-15T18:47:16.861966",
     "exception": false,
     "start_time": "2025-07-15T18:47:16.829768",
     "status": "completed"
    },
    "tags": []
   },
   "outputs": [
    {
     "data": {
      "text/html": [
       "<div>\n",
       "<style scoped>\n",
       "    .dataframe tbody tr th:only-of-type {\n",
       "        vertical-align: middle;\n",
       "    }\n",
       "\n",
       "    .dataframe tbody tr th {\n",
       "        vertical-align: top;\n",
       "    }\n",
       "\n",
       "    .dataframe thead th {\n",
       "        text-align: right;\n",
       "    }\n",
       "</style>\n",
       "<table border=\"1\" class=\"dataframe\">\n",
       "  <thead>\n",
       "    <tr style=\"text-align: right;\">\n",
       "      <th></th>\n",
       "      <th>PassengerId</th>\n",
       "      <th>Pclass</th>\n",
       "      <th>Sex</th>\n",
       "      <th>Age</th>\n",
       "      <th>SibSp</th>\n",
       "      <th>Parch</th>\n",
       "      <th>Fare</th>\n",
       "      <th>hasCabin</th>\n",
       "      <th>Embarked_C</th>\n",
       "      <th>Embarked_Q</th>\n",
       "      <th>...</th>\n",
       "      <th>Title_Lady</th>\n",
       "      <th>Title_Major</th>\n",
       "      <th>Title_Master</th>\n",
       "      <th>Title_Miss</th>\n",
       "      <th>Title_Mlle</th>\n",
       "      <th>Title_Mme</th>\n",
       "      <th>Title_Mr</th>\n",
       "      <th>Title_Mrs</th>\n",
       "      <th>Title_Rev</th>\n",
       "      <th>Title_Sir</th>\n",
       "    </tr>\n",
       "  </thead>\n",
       "  <tbody>\n",
       "    <tr>\n",
       "      <th>0</th>\n",
       "      <td>892</td>\n",
       "      <td>3</td>\n",
       "      <td>1</td>\n",
       "      <td>34.5</td>\n",
       "      <td>0</td>\n",
       "      <td>0</td>\n",
       "      <td>0.015282</td>\n",
       "      <td>0</td>\n",
       "      <td>0.0</td>\n",
       "      <td>1.0</td>\n",
       "      <td>...</td>\n",
       "      <td>0.0</td>\n",
       "      <td>0.0</td>\n",
       "      <td>0.0</td>\n",
       "      <td>0.0</td>\n",
       "      <td>0.0</td>\n",
       "      <td>0.0</td>\n",
       "      <td>1.0</td>\n",
       "      <td>0.0</td>\n",
       "      <td>0.0</td>\n",
       "      <td>0.0</td>\n",
       "    </tr>\n",
       "    <tr>\n",
       "      <th>1</th>\n",
       "      <td>893</td>\n",
       "      <td>3</td>\n",
       "      <td>0</td>\n",
       "      <td>47.0</td>\n",
       "      <td>1</td>\n",
       "      <td>0</td>\n",
       "      <td>0.013663</td>\n",
       "      <td>0</td>\n",
       "      <td>0.0</td>\n",
       "      <td>0.0</td>\n",
       "      <td>...</td>\n",
       "      <td>0.0</td>\n",
       "      <td>0.0</td>\n",
       "      <td>0.0</td>\n",
       "      <td>0.0</td>\n",
       "      <td>0.0</td>\n",
       "      <td>0.0</td>\n",
       "      <td>0.0</td>\n",
       "      <td>1.0</td>\n",
       "      <td>0.0</td>\n",
       "      <td>0.0</td>\n",
       "    </tr>\n",
       "    <tr>\n",
       "      <th>2</th>\n",
       "      <td>894</td>\n",
       "      <td>2</td>\n",
       "      <td>1</td>\n",
       "      <td>62.0</td>\n",
       "      <td>0</td>\n",
       "      <td>0</td>\n",
       "      <td>0.018909</td>\n",
       "      <td>0</td>\n",
       "      <td>0.0</td>\n",
       "      <td>1.0</td>\n",
       "      <td>...</td>\n",
       "      <td>0.0</td>\n",
       "      <td>0.0</td>\n",
       "      <td>0.0</td>\n",
       "      <td>0.0</td>\n",
       "      <td>0.0</td>\n",
       "      <td>0.0</td>\n",
       "      <td>1.0</td>\n",
       "      <td>0.0</td>\n",
       "      <td>0.0</td>\n",
       "      <td>0.0</td>\n",
       "    </tr>\n",
       "    <tr>\n",
       "      <th>3</th>\n",
       "      <td>895</td>\n",
       "      <td>3</td>\n",
       "      <td>1</td>\n",
       "      <td>27.0</td>\n",
       "      <td>0</td>\n",
       "      <td>0</td>\n",
       "      <td>0.016908</td>\n",
       "      <td>0</td>\n",
       "      <td>0.0</td>\n",
       "      <td>0.0</td>\n",
       "      <td>...</td>\n",
       "      <td>0.0</td>\n",
       "      <td>0.0</td>\n",
       "      <td>0.0</td>\n",
       "      <td>0.0</td>\n",
       "      <td>0.0</td>\n",
       "      <td>0.0</td>\n",
       "      <td>1.0</td>\n",
       "      <td>0.0</td>\n",
       "      <td>0.0</td>\n",
       "      <td>0.0</td>\n",
       "    </tr>\n",
       "    <tr>\n",
       "      <th>4</th>\n",
       "      <td>896</td>\n",
       "      <td>3</td>\n",
       "      <td>0</td>\n",
       "      <td>22.0</td>\n",
       "      <td>1</td>\n",
       "      <td>1</td>\n",
       "      <td>0.023984</td>\n",
       "      <td>0</td>\n",
       "      <td>0.0</td>\n",
       "      <td>0.0</td>\n",
       "      <td>...</td>\n",
       "      <td>0.0</td>\n",
       "      <td>0.0</td>\n",
       "      <td>0.0</td>\n",
       "      <td>0.0</td>\n",
       "      <td>0.0</td>\n",
       "      <td>0.0</td>\n",
       "      <td>0.0</td>\n",
       "      <td>1.0</td>\n",
       "      <td>0.0</td>\n",
       "      <td>0.0</td>\n",
       "    </tr>\n",
       "  </tbody>\n",
       "</table>\n",
       "<p>5 rows × 29 columns</p>\n",
       "</div>"
      ],
      "text/plain": [
       "   PassengerId  Pclass  Sex   Age  SibSp  Parch      Fare  hasCabin  \\\n",
       "0          892       3    1  34.5      0      0  0.015282         0   \n",
       "1          893       3    0  47.0      1      0  0.013663         0   \n",
       "2          894       2    1  62.0      0      0  0.018909         0   \n",
       "3          895       3    1  27.0      0      0  0.016908         0   \n",
       "4          896       3    0  22.0      1      1  0.023984         0   \n",
       "\n",
       "   Embarked_C  Embarked_Q  ...  Title_Lady  Title_Major  Title_Master  \\\n",
       "0         0.0         1.0  ...         0.0          0.0           0.0   \n",
       "1         0.0         0.0  ...         0.0          0.0           0.0   \n",
       "2         0.0         1.0  ...         0.0          0.0           0.0   \n",
       "3         0.0         0.0  ...         0.0          0.0           0.0   \n",
       "4         0.0         0.0  ...         0.0          0.0           0.0   \n",
       "\n",
       "   Title_Miss  Title_Mlle  Title_Mme  Title_Mr  Title_Mrs  Title_Rev  \\\n",
       "0         0.0         0.0        0.0       1.0        0.0        0.0   \n",
       "1         0.0         0.0        0.0       0.0        1.0        0.0   \n",
       "2         0.0         0.0        0.0       1.0        0.0        0.0   \n",
       "3         0.0         0.0        0.0       1.0        0.0        0.0   \n",
       "4         0.0         0.0        0.0       0.0        1.0        0.0   \n",
       "\n",
       "   Title_Sir  \n",
       "0        0.0  \n",
       "1        0.0  \n",
       "2        0.0  \n",
       "3        0.0  \n",
       "4        0.0  \n",
       "\n",
       "[5 rows x 29 columns]"
      ]
     },
     "execution_count": 13,
     "metadata": {},
     "output_type": "execute_result"
    }
   ],
   "source": [
    "# Converting the transformed training set to a DataFrame for better visualization\n",
    "strat_test_set = pd.DataFrame(strat_test_set)\n",
    "test_data_processed = pd.DataFrame(test_data_processed)\n",
    "\n",
    "# Display the first few rows of the transformed training data\n",
    "test_data_processed.head()  "
   ]
  },
  {
   "cell_type": "code",
   "execution_count": 14,
   "id": "83bb1e1c",
   "metadata": {
    "execution": {
     "iopub.execute_input": "2025-07-15T18:47:16.878702Z",
     "iopub.status.busy": "2025-07-15T18:47:16.878358Z",
     "iopub.status.idle": "2025-07-15T18:47:16.889701Z",
     "shell.execute_reply": "2025-07-15T18:47:16.888863Z"
    },
    "papermill": {
     "duration": 0.021425,
     "end_time": "2025-07-15T18:47:16.891193",
     "exception": false,
     "start_time": "2025-07-15T18:47:16.869768",
     "status": "completed"
    },
    "tags": []
   },
   "outputs": [
    {
     "name": "stdout",
     "output_type": "stream",
     "text": [
      "<class 'pandas.core.frame.DataFrame'>\n",
      "RangeIndex: 418 entries, 0 to 417\n",
      "Data columns (total 29 columns):\n",
      " #   Column          Non-Null Count  Dtype  \n",
      "---  ------          --------------  -----  \n",
      " 0   PassengerId     418 non-null    int64  \n",
      " 1   Pclass          418 non-null    int64  \n",
      " 2   Sex             418 non-null    int64  \n",
      " 3   Age             417 non-null    float64\n",
      " 4   SibSp           418 non-null    int64  \n",
      " 5   Parch           418 non-null    int64  \n",
      " 6   Fare            417 non-null    float64\n",
      " 7   hasCabin        418 non-null    int64  \n",
      " 8   Embarked_C      418 non-null    float64\n",
      " 9   Embarked_Q      418 non-null    float64\n",
      " 10  Embarked_S      418 non-null    float64\n",
      " 11  Embarked_nan    418 non-null    float64\n",
      " 12  isAlone         418 non-null    int64  \n",
      " 13  isMinor         418 non-null    int64  \n",
      " 14  FamilySize      418 non-null    int64  \n",
      " 15  Title_Col       418 non-null    float64\n",
      " 16  Title_Countess  418 non-null    float64\n",
      " 17  Title_Dr        418 non-null    float64\n",
      " 18  Title_Jonkheer  418 non-null    float64\n",
      " 19  Title_Lady      418 non-null    float64\n",
      " 20  Title_Major     418 non-null    float64\n",
      " 21  Title_Master    418 non-null    float64\n",
      " 22  Title_Miss      418 non-null    float64\n",
      " 23  Title_Mlle      418 non-null    float64\n",
      " 24  Title_Mme       418 non-null    float64\n",
      " 25  Title_Mr        418 non-null    float64\n",
      " 26  Title_Mrs       418 non-null    float64\n",
      " 27  Title_Rev       418 non-null    float64\n",
      " 28  Title_Sir       418 non-null    float64\n",
      "dtypes: float64(20), int64(9)\n",
      "memory usage: 94.8 KB\n"
     ]
    }
   ],
   "source": [
    "# Display the first few rows of the transformed test data\n",
    "test_data_processed.info()"
   ]
  },
  {
   "cell_type": "code",
   "execution_count": 15,
   "id": "0f5dd79e",
   "metadata": {
    "execution": {
     "iopub.execute_input": "2025-07-15T18:47:16.908179Z",
     "iopub.status.busy": "2025-07-15T18:47:16.907838Z",
     "iopub.status.idle": "2025-07-15T18:47:16.918604Z",
     "shell.execute_reply": "2025-07-15T18:47:16.917689Z"
    },
    "papermill": {
     "duration": 0.021113,
     "end_time": "2025-07-15T18:47:16.920234",
     "exception": false,
     "start_time": "2025-07-15T18:47:16.899121",
     "status": "completed"
    },
    "tags": []
   },
   "outputs": [
    {
     "name": "stdout",
     "output_type": "stream",
     "text": [
      "<class 'pandas.core.frame.DataFrame'>\n",
      "RangeIndex: 712 entries, 0 to 711\n",
      "Data columns (total 30 columns):\n",
      " #   Column          Non-Null Count  Dtype  \n",
      "---  ------          --------------  -----  \n",
      " 0   PassengerId     712 non-null    int64  \n",
      " 1   Survived        712 non-null    int64  \n",
      " 2   Pclass          712 non-null    int64  \n",
      " 3   Sex             712 non-null    int64  \n",
      " 4   Age             712 non-null    float64\n",
      " 5   SibSp           712 non-null    int64  \n",
      " 6   Parch           712 non-null    int64  \n",
      " 7   Fare            712 non-null    float64\n",
      " 8   hasCabin        712 non-null    int64  \n",
      " 9   Embarked_C      712 non-null    float64\n",
      " 10  Embarked_Q      712 non-null    float64\n",
      " 11  Embarked_S      712 non-null    float64\n",
      " 12  Embarked_nan    712 non-null    float64\n",
      " 13  isAlone         712 non-null    int64  \n",
      " 14  isMinor         712 non-null    int64  \n",
      " 15  FamilySize      712 non-null    int64  \n",
      " 16  Title_Col       712 non-null    float64\n",
      " 17  Title_Countess  712 non-null    float64\n",
      " 18  Title_Dr        712 non-null    float64\n",
      " 19  Title_Jonkheer  712 non-null    float64\n",
      " 20  Title_Lady      712 non-null    float64\n",
      " 21  Title_Major     712 non-null    float64\n",
      " 22  Title_Master    712 non-null    float64\n",
      " 23  Title_Miss      712 non-null    float64\n",
      " 24  Title_Mlle      712 non-null    float64\n",
      " 25  Title_Mme       712 non-null    float64\n",
      " 26  Title_Mr        712 non-null    float64\n",
      " 27  Title_Mrs       712 non-null    float64\n",
      " 28  Title_Rev       712 non-null    float64\n",
      " 29  Title_Sir       712 non-null    float64\n",
      "dtypes: float64(20), int64(10)\n",
      "memory usage: 167.0 KB\n"
     ]
    }
   ],
   "source": [
    "# Display the info of the transformed training set\n",
    "strat_train_set.info()"
   ]
  },
  {
   "cell_type": "markdown",
   "id": "542307af",
   "metadata": {
    "papermill": {
     "duration": 0.007775,
     "end_time": "2025-07-15T18:47:16.936285",
     "exception": false,
     "start_time": "2025-07-15T18:47:16.92851",
     "status": "completed"
    },
    "tags": []
   },
   "source": [
    "We notice that the dataset is clean now. All the features have the same number of values. "
   ]
  },
  {
   "cell_type": "markdown",
   "id": "df5f7430",
   "metadata": {
    "papermill": {
     "duration": 0.007358,
     "end_time": "2025-07-15T18:47:16.951357",
     "exception": false,
     "start_time": "2025-07-15T18:47:16.943999",
     "status": "completed"
    },
    "tags": []
   },
   "source": [
    "#### Training and Evaluation of the Model (Random Forest Classifier)"
   ]
  },
  {
   "cell_type": "code",
   "execution_count": 16,
   "id": "4177500c",
   "metadata": {
    "execution": {
     "iopub.execute_input": "2025-07-15T18:47:16.967741Z",
     "iopub.status.busy": "2025-07-15T18:47:16.967446Z",
     "iopub.status.idle": "2025-07-15T18:48:07.817645Z",
     "shell.execute_reply": "2025-07-15T18:48:07.816933Z"
    },
    "papermill": {
     "duration": 50.875146,
     "end_time": "2025-07-15T18:48:07.833949",
     "exception": false,
     "start_time": "2025-07-15T18:47:16.958803",
     "status": "completed"
    },
    "tags": []
   },
   "outputs": [
    {
     "name": "stdout",
     "output_type": "stream",
     "text": [
      "Validation Accuracy: 0.8435754189944135\n"
     ]
    }
   ],
   "source": [
    "from sklearn.ensemble import RandomForestClassifier, StackingClassifier\n",
    "from sklearn.linear_model import LogisticRegression\n",
    "from xgboost import XGBClassifier # type: ignore\n",
    "from sklearn.metrics import accuracy_score\n",
    "from catboost import CatBoostClassifier # type: ignore\n",
    " \n",
    "# Features and target\n",
    "X_train = strat_train_set.drop(\"Survived\", axis=1)\n",
    "y_train = strat_train_set[\"Survived\"]\n",
    "X_val = strat_test_set.drop(\"Survived\", axis=1)\n",
    "y_val = strat_test_set[\"Survived\"]\n",
    "\n",
    "# Base learners\n",
    "estimators = [\n",
    "    ('rf', RandomForestClassifier(n_estimators=500, max_depth=5, min_samples_split=5, random_state=42)),\n",
    "    ('logreg', LogisticRegression(max_iter=8000)),\n",
    "    ('xgb', XGBClassifier(eval_metric='logloss')),\n",
    "     ('catboost', CatBoostClassifier(verbose=0))\n",
    "]\n",
    "\n",
    "# Stacking ensemble\n",
    "stacked_clf = StackingClassifier(\n",
    "    estimators=estimators,\n",
    "    final_estimator=LogisticRegression(max_iter=8000),\n",
    "    passthrough=True,\n",
    "    cv=5\n",
    ")\n",
    "\n",
    "# Fit on training data\n",
    "stacked_clf.fit(X_train, y_train)\n",
    "\n",
    "# Predict on validation set\n",
    "y_pred = stacked_clf.predict(X_val)\n",
    "\n",
    "# Evaluate\n",
    "acc = accuracy_score(y_val, y_pred)\n",
    "print(\"Validation Accuracy:\", acc)"
   ]
  },
  {
   "cell_type": "code",
   "execution_count": 17,
   "id": "5f415de9",
   "metadata": {
    "execution": {
     "iopub.execute_input": "2025-07-15T18:48:07.862733Z",
     "iopub.status.busy": "2025-07-15T18:48:07.862382Z",
     "iopub.status.idle": "2025-07-15T18:48:07.873405Z",
     "shell.execute_reply": "2025-07-15T18:48:07.872583Z"
    },
    "papermill": {
     "duration": 0.026844,
     "end_time": "2025-07-15T18:48:07.874719",
     "exception": false,
     "start_time": "2025-07-15T18:48:07.847875",
     "status": "completed"
    },
    "tags": []
   },
   "outputs": [
    {
     "data": {
      "text/plain": [
       "0"
      ]
     },
     "execution_count": 17,
     "metadata": {},
     "output_type": "execute_result"
    }
   ],
   "source": [
    "\n",
    "test_data_processed[\"Fare\"] = test_data_processed[\"Fare\"].ffill()\n",
    "test_data_processed[\"Fare\"].isna().sum()\n",
    "test_data_processed[\"Age\"] = test_data_processed[\"Age\"].ffill()\n",
    "test_data_processed[\"Age\"].isna().sum()   # Should be 0 if all missing values are filled"
   ]
  },
  {
   "cell_type": "code",
   "execution_count": 18,
   "id": "68d33357",
   "metadata": {
    "execution": {
     "iopub.execute_input": "2025-07-15T18:48:07.893338Z",
     "iopub.status.busy": "2025-07-15T18:48:07.892271Z",
     "iopub.status.idle": "2025-07-15T18:48:07.905161Z",
     "shell.execute_reply": "2025-07-15T18:48:07.904036Z"
    },
    "papermill": {
     "duration": 0.023945,
     "end_time": "2025-07-15T18:48:07.906737",
     "exception": false,
     "start_time": "2025-07-15T18:48:07.882792",
     "status": "completed"
    },
    "tags": []
   },
   "outputs": [
    {
     "name": "stdout",
     "output_type": "stream",
     "text": [
      "<class 'pandas.core.frame.DataFrame'>\n",
      "RangeIndex: 418 entries, 0 to 417\n",
      "Data columns (total 29 columns):\n",
      " #   Column          Non-Null Count  Dtype  \n",
      "---  ------          --------------  -----  \n",
      " 0   PassengerId     418 non-null    int64  \n",
      " 1   Pclass          418 non-null    int64  \n",
      " 2   Sex             418 non-null    int64  \n",
      " 3   Age             418 non-null    float64\n",
      " 4   SibSp           418 non-null    int64  \n",
      " 5   Parch           418 non-null    int64  \n",
      " 6   Fare            418 non-null    float64\n",
      " 7   hasCabin        418 non-null    int64  \n",
      " 8   Embarked_C      418 non-null    float64\n",
      " 9   Embarked_Q      418 non-null    float64\n",
      " 10  Embarked_S      418 non-null    float64\n",
      " 11  Embarked_nan    418 non-null    float64\n",
      " 12  isAlone         418 non-null    int64  \n",
      " 13  isMinor         418 non-null    int64  \n",
      " 14  FamilySize      418 non-null    int64  \n",
      " 15  Title_Col       418 non-null    float64\n",
      " 16  Title_Countess  418 non-null    float64\n",
      " 17  Title_Dr        418 non-null    float64\n",
      " 18  Title_Jonkheer  418 non-null    float64\n",
      " 19  Title_Lady      418 non-null    float64\n",
      " 20  Title_Major     418 non-null    float64\n",
      " 21  Title_Master    418 non-null    float64\n",
      " 22  Title_Miss      418 non-null    float64\n",
      " 23  Title_Mlle      418 non-null    float64\n",
      " 24  Title_Mme       418 non-null    float64\n",
      " 25  Title_Mr        418 non-null    float64\n",
      " 26  Title_Mrs       418 non-null    float64\n",
      " 27  Title_Rev       418 non-null    float64\n",
      " 28  Title_Sir       418 non-null    float64\n",
      "dtypes: float64(20), int64(9)\n",
      "memory usage: 94.8 KB\n"
     ]
    }
   ],
   "source": [
    "test_data_processed.info()"
   ]
  },
  {
   "cell_type": "code",
   "execution_count": 19,
   "id": "e6906d7d",
   "metadata": {
    "execution": {
     "iopub.execute_input": "2025-07-15T18:48:07.925482Z",
     "iopub.status.busy": "2025-07-15T18:48:07.924544Z",
     "iopub.status.idle": "2025-07-15T18:48:07.979785Z",
     "shell.execute_reply": "2025-07-15T18:48:07.978787Z"
    },
    "papermill": {
     "duration": 0.066245,
     "end_time": "2025-07-15T18:48:07.98122",
     "exception": false,
     "start_time": "2025-07-15T18:48:07.914975",
     "status": "completed"
    },
    "tags": []
   },
   "outputs": [
    {
     "name": "stdout",
     "output_type": "stream",
     "text": [
      "len(test_predictions): 418\n"
     ]
    }
   ],
   "source": [
    "test_predictions = stacked_clf.predict(test_data_processed)\n",
    "print(\"len(test_predictions):\", len(test_predictions))# must be 418"
   ]
  },
  {
   "cell_type": "code",
   "execution_count": 20,
   "id": "8ebc2d22",
   "metadata": {
    "execution": {
     "iopub.execute_input": "2025-07-15T18:48:07.999206Z",
     "iopub.status.busy": "2025-07-15T18:48:07.998414Z",
     "iopub.status.idle": "2025-07-15T18:48:08.009829Z",
     "shell.execute_reply": "2025-07-15T18:48:08.008975Z"
    },
    "papermill": {
     "duration": 0.021949,
     "end_time": "2025-07-15T18:48:08.011369",
     "exception": false,
     "start_time": "2025-07-15T18:48:07.98942",
     "status": "completed"
    },
    "tags": []
   },
   "outputs": [],
   "source": [
    "submission = pd.DataFrame({\n",
    "    \"PassengerId\": test_data[\"PassengerId\"],  # from the original unprocessed test.csv\n",
    "    \"Survived\": test_predictions                   # model predictions\n",
    "})\n",
    "submission.to_csv(\"submission.csv\", index=False)"
   ]
  },
  {
   "cell_type": "code",
   "execution_count": 21,
   "id": "8cddf531",
   "metadata": {
    "execution": {
     "iopub.execute_input": "2025-07-15T18:48:08.029694Z",
     "iopub.status.busy": "2025-07-15T18:48:08.028817Z",
     "iopub.status.idle": "2025-07-15T18:48:08.035484Z",
     "shell.execute_reply": "2025-07-15T18:48:08.034565Z"
    },
    "papermill": {
     "duration": 0.016981,
     "end_time": "2025-07-15T18:48:08.03687",
     "exception": false,
     "start_time": "2025-07-15T18:48:08.019889",
     "status": "completed"
    },
    "tags": []
   },
   "outputs": [
    {
     "name": "stdout",
     "output_type": "stream",
     "text": [
      "rows on disk      : 418\n"
     ]
    }
   ],
   "source": [
    "check = pd.read_csv(\"submission.csv\")\n",
    "print(\"rows on disk      :\", len(check))   "
   ]
  }
 ],
 "metadata": {
  "kaggle": {
   "accelerator": "none",
   "dataSources": [
    {
     "databundleVersionId": 26502,
     "sourceId": 3136,
     "sourceType": "competition"
    },
    {
     "datasetId": 7857523,
     "sourceId": 12456318,
     "sourceType": "datasetVersion"
    }
   ],
   "dockerImageVersionId": 31089,
   "isGpuEnabled": false,
   "isInternetEnabled": true,
   "language": "python",
   "sourceType": "notebook"
  },
  "kernelspec": {
   "display_name": "ML_VU",
   "language": "python",
   "name": "python3"
  },
  "language_info": {
   "codemirror_mode": {
    "name": "ipython",
    "version": 3
   },
   "file_extension": ".py",
   "mimetype": "text/x-python",
   "name": "python",
   "nbconvert_exporter": "python",
   "pygments_lexer": "ipython3",
   "version": "3.10.16"
  },
  "papermill": {
   "default_parameters": {},
   "duration": 71.281856,
   "end_time": "2025-07-15T18:48:10.579617",
   "environment_variables": {},
   "exception": null,
   "input_path": "__notebook__.ipynb",
   "output_path": "__notebook__.ipynb",
   "parameters": {},
   "start_time": "2025-07-15T18:46:59.297761",
   "version": "2.6.0"
  }
 },
 "nbformat": 4,
 "nbformat_minor": 5
}
